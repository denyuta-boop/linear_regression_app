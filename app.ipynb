{
 "cells": [
  {
   "cell_type": "code",
   "execution_count": 1,
   "id": "f86f546f-8222-4b9c-81bc-f1a770e0fc70",
   "metadata": {},
   "outputs": [
    {
     "ename": "SyntaxError",
     "evalue": "invalid character '、' (U+3001) (3003039096.py, line 1)",
     "output_type": "error",
     "traceback": [
      "\u001b[1;36m  Cell \u001b[1;32mIn[1], line 1\u001b[1;36m\u001b[0m\n\u001b[1;33m    JupyterLabで作成したコードをウェブアプリとして公開するには、.ipynbファイルの内容を.pyファイルに変換する必要があります。\u001b[0m\n\u001b[1;37m                                      ^\u001b[0m\n\u001b[1;31mSyntaxError\u001b[0m\u001b[1;31m:\u001b[0m invalid character '、' (U+3001)\n"
     ]
    }
   ],
   "source": [
    "JupyterLabで作成したコードをウェブアプリとして公開するには、.ipynbファイルの内容を.pyファイルに変換する必要があります。\n",
    "\n",
    "JupyterLabで.ipynbファイルを開きます。\n",
    "\n",
    "メニューから File -> Export -> Export Notebook as -> Executable Script を選択します。\n",
    "\n",
    "これにより、.ipynbファイル内のコードセルのみが抽出され、一つの**.pyファイル**として保存されます。"
   ]
  },
  {
   "cell_type": "code",
   "execution_count": 3,
   "id": "8421ad34-9dbb-4320-bd40-ebeefc6a8dee",
   "metadata": {},
   "outputs": [
    {
     "name": "stderr",
     "output_type": "stream",
     "text": [
      "2025-09-23 03:11:24.198 WARNING streamlit.runtime.scriptrunner_utils.script_run_context: Thread 'MainThread': missing ScriptRunContext! This warning can be ignored when running in bare mode.\n",
      "2025-09-23 03:11:24.385 \n",
      "  \u001b[33m\u001b[1mWarning:\u001b[0m to view this Streamlit app on a browser, run it with the following\n",
      "  command:\n",
      "\n",
      "    streamlit run C:\\Users\\denyu\\miniconda3\\envs\\pygraph-app\\lib\\site-packages\\ipykernel_launcher.py [ARGUMENTS]\n",
      "2025-09-23 03:11:24.385 Thread 'MainThread': missing ScriptRunContext! This warning can be ignored when running in bare mode.\n",
      "2025-09-23 03:11:24.385 Thread 'MainThread': missing ScriptRunContext! This warning can be ignored when running in bare mode.\n",
      "2025-09-23 03:11:24.385 Thread 'MainThread': missing ScriptRunContext! This warning can be ignored when running in bare mode.\n",
      "2025-09-23 03:11:24.385 Thread 'MainThread': missing ScriptRunContext! This warning can be ignored when running in bare mode.\n",
      "2025-09-23 03:11:24.385 Thread 'MainThread': missing ScriptRunContext! This warning can be ignored when running in bare mode.\n",
      "2025-09-23 03:11:24.385 Thread 'MainThread': missing ScriptRunContext! This warning can be ignored when running in bare mode.\n",
      "2025-09-23 03:11:24.393 Thread 'MainThread': missing ScriptRunContext! This warning can be ignored when running in bare mode.\n",
      "2025-09-23 03:11:24.393 Thread 'MainThread': missing ScriptRunContext! This warning can be ignored when running in bare mode.\n",
      "2025-09-23 03:11:24.394 Thread 'MainThread': missing ScriptRunContext! This warning can be ignored when running in bare mode.\n",
      "2025-09-23 03:11:24.394 Thread 'MainThread': missing ScriptRunContext! This warning can be ignored when running in bare mode.\n",
      "2025-09-23 03:11:24.394 Thread 'MainThread': missing ScriptRunContext! This warning can be ignored when running in bare mode.\n"
     ]
    }
   ],
   "source": [
    "# 必要なライブラリをインポート\n",
    "import streamlit as st\n",
    "import pandas as pd\n",
    "import numpy as np\n",
    "import matplotlib.pyplot as plt\n",
    "import seaborn as sns\n",
    "from sklearn.linear_model import LinearRegression\n",
    "\n",
    "# アプリのタイトルを設定\n",
    "st.title('CSVから線形回帰分析を行うアプリ')\n",
    "st.markdown('CSVファイルをアップロードすると、線形回帰モデルを作成し、結果を可視化します。')\n",
    "\n",
    "# ファイルアップローダーを設置\n",
    "uploaded_file = st.file_uploader(\"CSVファイルをアップロードしてください\", type=\"csv\")\n",
    "\n",
    "if uploaded_file is not None:\n",
    "    # CSVファイルを読み込む\n",
    "    df = pd.read_csv(uploaded_file)\n",
    "    st.write(\"アップロードされたデータ:\")\n",
    "    st.write(df.head())\n",
    "\n",
    "    # 列名を取得\n",
    "    columns = df.columns.tolist()\n",
    "\n",
    "    # ユーザーに説明変数（x）と目的変数（y）を選択させる\n",
    "    st.sidebar.header('分析設定')\n",
    "    x_column = st.sidebar.selectbox('説明変数（X軸）を選択してください', columns)\n",
    "    y_column = st.sidebar.selectbox('目的変数（Y軸）を選択してください', columns)\n",
    "\n",
    "    # 選択された列を数値型に変換\n",
    "    try:\n",
    "        x_data = df[x_column].values.reshape(-1, 1)\n",
    "        y_data = df[y_column].values\n",
    "    except Exception as e:\n",
    "        st.error(f\"選択した列に数値データが含まれていない可能性があります。別の列を選択してください。エラー: {e}\")\n",
    "        st.stop()\n",
    "        \n",
    "    # 線形回帰モデルを作成\n",
    "    model = LinearRegression()\n",
    "    model.fit(x_data, y_data)\n",
    "    y_pred = model.predict(x_data)\n",
    "\n",
    "    # グラフを可視化\n",
    "    st.subheader('線形回帰分析の結果')\n",
    "    \n",
    "    # Matplotlibの図（Figure）を作成\n",
    "    fig, ax = plt.subplots(figsize=(10, 6))\n",
    "    \n",
    "    # 散布図をプロット\n",
    "    sns.scatterplot(x=df[x_column], y=df[y_column], ax=ax, label='実測データ')\n",
    "    \n",
    "    # 回帰直線をプロット\n",
    "    ax.plot(df[x_column], y_pred, color='red', linewidth=2, label='回帰直線')\n",
    "    \n",
    "    # グラフのタイトルとラベルを設定\n",
    "    ax.set_title(f'線形回帰 ({y_column} vs {x_column})')\n",
    "    ax.set_xlabel(x_column)\n",
    "    ax.set_ylabel(y_column)\n",
    "    ax.legend()\n",
    "    st.pyplot(fig)\n",
    "    \n",
    "    # モデルの係数を表示\n",
    "    st.subheader('モデルの係数')\n",
    "    st.write(f'傾き (coef_): **{model.coef_[0]:.4f}**')\n",
    "    st.write(f'切片 (intercept_): **{model.intercept_:.4f}**')\n",
    "    \n",
    "    # R^2スコアを表示\n",
    "    st.subheader('モデルの評価')\n",
    "    st.write(f'決定係数（R^2）: **{model.score(x_data, y_data):.4f}**')\n",
    "    st.info('決定係数が1に近いほど、モデルの当てはまりが良いことを示します。')"
   ]
  },
  {
   "cell_type": "code",
   "execution_count": null,
   "id": "404b041f-bcd4-47bf-a1ff-6b89025e4c40",
   "metadata": {},
   "outputs": [],
   "source": []
  }
 ],
 "metadata": {
  "kernelspec": {
   "display_name": "Python 3 (ipykernel)",
   "language": "python",
   "name": "python3"
  },
  "language_info": {
   "codemirror_mode": {
    "name": "ipython",
    "version": 3
   },
   "file_extension": ".py",
   "mimetype": "text/x-python",
   "name": "python",
   "nbconvert_exporter": "python",
   "pygments_lexer": "ipython3",
   "version": "3.9.23"
  }
 },
 "nbformat": 4,
 "nbformat_minor": 5
}
